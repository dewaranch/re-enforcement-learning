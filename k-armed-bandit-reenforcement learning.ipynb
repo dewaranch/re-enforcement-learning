{
 "cells": [
  {
   "cell_type": "markdown",
   "metadata": {},
   "source": [
    "coding an epsilon-greedy k armed bandit reenforcement algorithm"
   ]
  },
  {
   "cell_type": "code",
   "execution_count": 27,
   "metadata": {},
   "outputs": [
    {
     "name": "stdout",
     "output_type": "stream",
     "text": [
      "[ 5.00560512 17.08311609 11.0245507  14.9800255   2.2487728   7.9973607\n",
      "  3.93614095 18.99634818 18.94225348  3.98639999  6.96427696  8.93313083\n",
      "  6.06301129  3.07913895 16.91266682 14.99043148  8.96372427 13.98871058\n",
      " 18.94888983  5.0334531 ]\n"
     ]
    }
   ],
   "source": [
    "import numpy as np\n",
    "\n",
    "#number of possible actions to take\n",
    "k=20\n",
    "\n",
    "#denote our epslion (learning rate)\n",
    "epsilon=.2\n",
    "\n",
    "#number of iterations to runs\n",
    "#at 1 million this definitely takes a few seconds\n",
    "iterations=1000000\n",
    "\n",
    "#Randomly give each action an unknown distribution\n",
    "#each tuple will be N(mean,std)\n",
    "dists=[]\n",
    "estimates=np.zeros(k)\n",
    "times_spun=np.zeros(k)\n",
    "for i in range(0,k):\n",
    "    dists.append((np.random.randint(20),(np.random.randint(20)+1)))\n",
    "    \n",
    "#complicated function but basically:\n",
    "#Either we randomly choose from the maxes, or we randomly choose among all, based on epsilon probability.\n",
    "def make_choice(Q):\n",
    "    bandit_index=np.random.choice([np.random.choice(np.flatnonzero(Q == Q.max())), np.random.choice(len(Q)) ]\n",
    "                                  ,p=[1-epsilon,epsilon]     )\n",
    "    return bandit_index\n",
    "\n",
    "#run the algorithm.\n",
    "for i in range(0,iterations):\n",
    "    bandit_index=make_choice(estimates)\n",
    "    reward= np.random.normal(dists[bandit_index][0], dists[bandit_index][1], 1)\n",
    "    times_spun[bandit_index]=times_spun[bandit_index]+1\n",
    "    estimates[bandit_index]=estimates[bandit_index]+( (1/times_spun[bandit_index]) * (reward-estimates[bandit_index]))\n",
    "\n",
    "print(estimates)\n",
    "\n",
    "    \n",
    "\n",
    "\n"
   ]
  },
  {
   "cell_type": "code",
   "execution_count": null,
   "metadata": {},
   "outputs": [],
   "source": []
  },
  {
   "cell_type": "code",
   "execution_count": null,
   "metadata": {},
   "outputs": [],
   "source": []
  },
  {
   "cell_type": "code",
   "execution_count": null,
   "metadata": {},
   "outputs": [],
   "source": []
  },
  {
   "cell_type": "code",
   "execution_count": null,
   "metadata": {},
   "outputs": [],
   "source": []
  }
 ],
 "metadata": {
  "kernelspec": {
   "display_name": "Python 3",
   "language": "python",
   "name": "python3"
  },
  "language_info": {
   "codemirror_mode": {
    "name": "ipython",
    "version": 3
   },
   "file_extension": ".py",
   "mimetype": "text/x-python",
   "name": "python",
   "nbconvert_exporter": "python",
   "pygments_lexer": "ipython3",
   "version": "3.7.4"
  }
 },
 "nbformat": 4,
 "nbformat_minor": 2
}
